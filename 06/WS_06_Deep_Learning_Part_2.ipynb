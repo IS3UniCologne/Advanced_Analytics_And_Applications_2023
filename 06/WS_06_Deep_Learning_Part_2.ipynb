{
 "cells": [
  {
   "attachments": {},
   "cell_type": "markdown",
   "metadata": {},
   "source": [
    "# Workshop 6 \n",
    "\n",
    "### Outline: \n",
    " \n",
    "1. Multi-Class Classifcation: Classifying newswires (Chapter 3)\n",
    "2. Regression with Deep Learning (Chapter 3)\n",
    "\n",
    "Source: Deep Learning with Keras, François Chollet, 2017"
   ]
  },
  {
   "attachments": {},
   "cell_type": "markdown",
   "metadata": {},
   "source": [
    "### 1. Classifying Newswires"
   ]
  },
  {
   "cell_type": "code",
   "execution_count": 1,
   "metadata": {},
   "outputs": [],
   "source": [
    "# Loading the reuters dataset\n",
    "from tensorflow.keras.datasets import reuters\n",
    "(train_data, train_labels), (test_data, test_labels) = reuters.load_data(num_words=10000)\n",
    "\n",
    "# As with the IMDB dataset, the argument num_words=10000 restricts the data to the\n",
    "# 10,000 most frequently occurring words found in the data."
   ]
  },
  {
   "cell_type": "code",
   "execution_count": 2,
   "metadata": {},
   "outputs": [
    {
     "data": {
      "text/plain": [
       "[1,\n",
       " 245,\n",
       " 273,\n",
       " 207,\n",
       " 156,\n",
       " 53,\n",
       " 74,\n",
       " 160,\n",
       " 26,\n",
       " 14,\n",
       " 46,\n",
       " 296,\n",
       " 26,\n",
       " 39,\n",
       " 74,\n",
       " 2979,\n",
       " 3554,\n",
       " 14,\n",
       " 46,\n",
       " 4689,\n",
       " 4329,\n",
       " 86,\n",
       " 61,\n",
       " 3499,\n",
       " 4795,\n",
       " 14,\n",
       " 61,\n",
       " 451,\n",
       " 4329,\n",
       " 17,\n",
       " 12]"
      ]
     },
     "execution_count": 2,
     "metadata": {},
     "output_type": "execute_result"
    }
   ],
   "source": [
    "# Each data point is just a list of indexes of the top 10000 frequent words\n",
    "train_data[10]"
   ]
  },
  {
   "cell_type": "code",
   "execution_count": 3,
   "metadata": {},
   "outputs": [],
   "source": [
    "# Decoding a encoded newswire data sample\n",
    "word_index = reuters.get_word_index()\n",
    "reverse_word_index = dict([(value, key) for (key, value) in word_index.items()])\n",
    "decoded_newswire = ' '.join([reverse_word_index.get(i - 3, '?') for i in train_data[0]])"
   ]
  },
  {
   "cell_type": "code",
   "execution_count": 4,
   "metadata": {},
   "outputs": [
    {
     "data": {
      "text/plain": [
       "'? ? ? said as a result of its december acquisition of space co it expects earnings per share in 1987 of 1 15 to 1 30 dlrs per share up from 70 cts in 1986 the company said pretax net should rise to nine to 10 mln dlrs from six mln dlrs in 1986 and rental operation revenues to 19 to 22 mln dlrs from 12 5 mln dlrs it said cash flow per share this year should be 2 50 to three dlrs reuter 3'"
      ]
     },
     "execution_count": 4,
     "metadata": {},
     "output_type": "execute_result"
    }
   ],
   "source": [
    "decoded_newswire"
   ]
  },
  {
   "cell_type": "code",
   "execution_count": 5,
   "metadata": {},
   "outputs": [],
   "source": [
    "# Objective: Transform this list into a \"bag of word\" model\n",
    "# The students that did not participate in AA: https://en.wikipedia.org/wiki/Bag-of-words_model"
   ]
  },
  {
   "attachments": {},
   "cell_type": "markdown",
   "metadata": {},
   "source": [
    "<img src=\"resources/img1.png\" width=\"350\">"
   ]
  },
  {
   "cell_type": "code",
   "execution_count": 6,
   "metadata": {},
   "outputs": [],
   "source": [
    "import numpy as np\n",
    "# Transform to 10.000 Dimension Vector Space with a very simply bag of words approach\n",
    "def vectorize_sequences(sequences, dimension=10000):\n",
    "    results = np.zeros((len(sequences), dimension))\n",
    "    for i, sequence in enumerate(sequences):\n",
    "        results[i, sequence] = 1. # This is a very simple bag of words model \n",
    "    return results\n",
    "\n",
    "x_train = vectorize_sequences(train_data)\n",
    "x_test = vectorize_sequences(test_data)"
   ]
  },
  {
   "cell_type": "code",
   "execution_count": 7,
   "metadata": {},
   "outputs": [
    {
     "data": {
      "text/plain": [
       "array([[0., 1., 1., ..., 0., 0., 0.],\n",
       "       [0., 1., 1., ..., 0., 0., 0.],\n",
       "       [0., 1., 1., ..., 0., 0., 0.],\n",
       "       ...,\n",
       "       [0., 1., 1., ..., 0., 0., 0.],\n",
       "       [0., 1., 1., ..., 0., 0., 0.],\n",
       "       [0., 1., 1., ..., 0., 0., 0.]])"
      ]
     },
     "execution_count": 7,
     "metadata": {},
     "output_type": "execute_result"
    }
   ],
   "source": [
    "x_train"
   ]
  },
  {
   "cell_type": "code",
   "execution_count": 8,
   "metadata": {},
   "outputs": [
    {
     "name": "stdout",
     "output_type": "stream",
     "text": [
      "min: 0 - max: 45\n"
     ]
    }
   ],
   "source": [
    "# Range of training labels => 46 Topics\n",
    "print(\"min: {} - max: {}\".format(train_labels.min(),train_labels.max()))"
   ]
  },
  {
   "cell_type": "code",
   "execution_count": 9,
   "metadata": {},
   "outputs": [],
   "source": [
    "# Our training data is categorical, we have to transform it with one-hot-encoding into a proper format\n",
    "# basically this creates dummy variables for each category\n",
    "from tensorflow.keras.utils import to_categorical\n",
    "one_hot_train_labels = to_categorical(train_labels)\n",
    "one_hot_test_labels = to_categorical(test_labels)"
   ]
  },
  {
   "attachments": {},
   "cell_type": "markdown",
   "metadata": {},
   "source": [
    "#### The Deep Neural Network Architecture\n",
    "The problem at hand looks very similar to the problem we solved last week. However, instead of having 2 classes (positive and negative sentiment) we do have 46 classes. Thus, the dimensionality of the output space is much larger."
   ]
  },
  {
   "cell_type": "code",
   "execution_count": 10,
   "metadata": {},
   "outputs": [
    {
     "name": "stderr",
     "output_type": "stream",
     "text": [
      "2023-05-10 14:49:06.648968: I tensorflow/core/common_runtime/pluggable_device/pluggable_device_factory.cc:305] Could not identify NUMA node of platform GPU ID 0, defaulting to 0. Your kernel may not have been built with NUMA support.\n",
      "2023-05-10 14:49:06.649115: I tensorflow/core/common_runtime/pluggable_device/pluggable_device_factory.cc:271] Created TensorFlow device (/job:localhost/replica:0/task:0/device:GPU:0 with 0 MB memory) -> physical PluggableDevice (device: 0, name: METAL, pci bus id: <undefined>)\n"
     ]
    },
    {
     "name": "stdout",
     "output_type": "stream",
     "text": [
      "Metal device set to: Apple M1\n",
      "\n",
      "systemMemory: 16.00 GB\n",
      "maxCacheSize: 5.33 GB\n",
      "\n"
     ]
    }
   ],
   "source": [
    "from tensorflow.keras import models\n",
    "from tensorflow.keras import layers\n",
    "\n",
    "# The raw network architecture\n",
    "model = models.Sequential()\n",
    "model.add(layers.Dense(64, activation='relu', input_shape=(10000,)))\n",
    "model.add(layers.Dense(64, activation='relu'))\n",
    "model.add(layers.Dense(46, activation='softmax'))"
   ]
  },
  {
   "attachments": {},
   "cell_type": "markdown",
   "metadata": {},
   "source": [
    "Note two things here:\n",
    "1. Each input vector will be mapped to a 46d output vector\n",
    "2. Last layer uses a softmax activation function. In other words, the present network will output a probability distribution "
   ]
  },
  {
   "attachments": {},
   "cell_type": "markdown",
   "metadata": {},
   "source": [
    "##### The loss function\n",
    "The best loss function to use in this case is categorical_crossentropy. It measures\n",
    "the distance between two probability distributions: here, between the probability distribution\n",
    "output by the network and the true distribution of the labels."
   ]
  },
  {
   "cell_type": "code",
   "execution_count": 11,
   "metadata": {},
   "outputs": [],
   "source": [
    "model.compile(optimizer='SGD', loss='categorical_crossentropy', metrics=['accuracy'])"
   ]
  },
  {
   "attachments": {},
   "cell_type": "markdown",
   "metadata": {},
   "source": [
    "#### Validating our network"
   ]
  },
  {
   "cell_type": "code",
   "execution_count": 12,
   "metadata": {},
   "outputs": [],
   "source": [
    "# Let's pick 1000 samples to use as a validation set\n",
    "x_val = x_train[:1000]\n",
    "partial_x_train = x_train[1000:]\n",
    "y_val = one_hot_train_labels[:1000]\n",
    "partial_y_train = one_hot_train_labels[1000:]"
   ]
  },
  {
   "cell_type": "code",
   "execution_count": 13,
   "metadata": {},
   "outputs": [],
   "source": [
    "# Training Phase with 20 epochs"
   ]
  },
  {
   "cell_type": "code",
   "execution_count": 14,
   "metadata": {},
   "outputs": [
    {
     "name": "stdout",
     "output_type": "stream",
     "text": [
      "Epoch 1/20\n"
     ]
    },
    {
     "name": "stderr",
     "output_type": "stream",
     "text": [
      "2023-05-10 14:49:45.072738: W tensorflow/core/platform/profile_utils/cpu_utils.cc:128] Failed to get CPU frequency: 0 Hz\n",
      "2023-05-10 14:49:45.219262: I tensorflow/core/grappler/optimizers/custom_graph_optimizer_registry.cc:113] Plugin optimizer for device_type GPU is enabled.\n"
     ]
    },
    {
     "name": "stdout",
     "output_type": "stream",
     "text": [
      "16/16 [==============================] - 3s 51ms/step - loss: 3.7706 - accuracy: 0.1632 - val_loss: 3.6990 - val_accuracy: 0.2450\n",
      "Epoch 2/20\n",
      " 1/16 [>.............................] - ETA: 0s - loss: 3.6989 - accuracy: 0.2285"
     ]
    },
    {
     "name": "stderr",
     "output_type": "stream",
     "text": [
      "2023-05-10 14:49:47.663748: I tensorflow/core/grappler/optimizers/custom_graph_optimizer_registry.cc:113] Plugin optimizer for device_type GPU is enabled.\n"
     ]
    },
    {
     "name": "stdout",
     "output_type": "stream",
     "text": [
      "16/16 [==============================] - 0s 15ms/step - loss: 3.6304 - accuracy: 0.2777 - val_loss: 3.5206 - val_accuracy: 0.3750\n",
      "Epoch 3/20\n",
      "16/16 [==============================] - 0s 14ms/step - loss: 3.4249 - accuracy: 0.4038 - val_loss: 3.2738 - val_accuracy: 0.4540\n",
      "Epoch 4/20\n",
      "16/16 [==============================] - 0s 14ms/step - loss: 3.1574 - accuracy: 0.4593 - val_loss: 2.9821 - val_accuracy: 0.4830\n",
      "Epoch 5/20\n",
      "16/16 [==============================] - 0s 14ms/step - loss: 2.8771 - accuracy: 0.4786 - val_loss: 2.7245 - val_accuracy: 0.5000\n",
      "Epoch 6/20\n",
      "16/16 [==============================] - 0s 15ms/step - loss: 2.6579 - accuracy: 0.4792 - val_loss: 2.5446 - val_accuracy: 0.4570\n",
      "Epoch 7/20\n",
      "16/16 [==============================] - 0s 14ms/step - loss: 2.5012 - accuracy: 0.4622 - val_loss: 2.4078 - val_accuracy: 0.4460\n",
      "Epoch 8/20\n",
      "16/16 [==============================] - 0s 14ms/step - loss: 2.3762 - accuracy: 0.4648 - val_loss: 2.2951 - val_accuracy: 0.4780\n",
      "Epoch 9/20\n",
      "16/16 [==============================] - 0s 15ms/step - loss: 2.2725 - accuracy: 0.4827 - val_loss: 2.2029 - val_accuracy: 0.5070\n",
      "Epoch 10/20\n",
      "16/16 [==============================] - 0s 14ms/step - loss: 2.1887 - accuracy: 0.5000 - val_loss: 2.1296 - val_accuracy: 0.5120\n",
      "Epoch 11/20\n",
      "16/16 [==============================] - 0s 14ms/step - loss: 2.1216 - accuracy: 0.5059 - val_loss: 2.0705 - val_accuracy: 0.5160\n",
      "Epoch 12/20\n",
      "16/16 [==============================] - 0s 15ms/step - loss: 2.0667 - accuracy: 0.5094 - val_loss: 2.0218 - val_accuracy: 0.5170\n",
      "Epoch 13/20\n",
      "16/16 [==============================] - 0s 15ms/step - loss: 2.0206 - accuracy: 0.5122 - val_loss: 1.9810 - val_accuracy: 0.5190\n",
      "Epoch 14/20\n",
      "16/16 [==============================] - 0s 14ms/step - loss: 1.9814 - accuracy: 0.5150 - val_loss: 1.9456 - val_accuracy: 0.5190\n",
      "Epoch 15/20\n",
      "16/16 [==============================] - 0s 15ms/step - loss: 1.9472 - accuracy: 0.5179 - val_loss: 1.9152 - val_accuracy: 0.5220\n",
      "Epoch 16/20\n",
      "16/16 [==============================] - 0s 16ms/step - loss: 1.9172 - accuracy: 0.5226 - val_loss: 1.8880 - val_accuracy: 0.5300\n",
      "Epoch 17/20\n",
      "16/16 [==============================] - 0s 14ms/step - loss: 1.8904 - accuracy: 0.5264 - val_loss: 1.8640 - val_accuracy: 0.5350\n",
      "Epoch 18/20\n",
      "16/16 [==============================] - 0s 14ms/step - loss: 1.8662 - accuracy: 0.5323 - val_loss: 1.8424 - val_accuracy: 0.5400\n",
      "Epoch 19/20\n",
      "16/16 [==============================] - 0s 14ms/step - loss: 1.8444 - accuracy: 0.5375 - val_loss: 1.8225 - val_accuracy: 0.5440\n",
      "Epoch 20/20\n",
      "16/16 [==============================] - 0s 14ms/step - loss: 1.8242 - accuracy: 0.5406 - val_loss: 1.8044 - val_accuracy: 0.5450\n"
     ]
    }
   ],
   "source": [
    "# validation data = Data on which to evaluate the loss and any model metrics at the end of each epoch.\n",
    "#                   The model will not be trained on this data.\n",
    "history = model.fit(partial_x_train, partial_y_train, epochs=20, batch_size=512, validation_data=(x_val, y_val))"
   ]
  },
  {
   "cell_type": "code",
   "execution_count": 15,
   "metadata": {},
   "outputs": [
    {
     "data": {
      "image/png": "[encoded data removed]",
      "text/plain": [
       "<Figure size 432x288 with 1 Axes>"
      ]
     },
     "metadata": {
      "needs_background": "light"
     },
     "output_type": "display_data"
    }
   ],
   "source": [
    "# Plotting the training and validation loss\n",
    "import matplotlib.pyplot as plt\n",
    "\n",
    "loss = history.history['loss']\n",
    "val_loss = history.history['val_loss']\n",
    "\n",
    "epochs = range(1, len(loss) + 1)\n",
    "\n",
    "plt.plot(epochs, loss, 'bo', label='Training loss')\n",
    "plt.plot(epochs, val_loss, 'b', label='Validation loss')\n",
    "plt.title('Training and validation loss')\n",
    "plt.xlabel('Epochs')\n",
    "plt.ylabel('Loss')\n",
    "plt.legend()\n",
    "plt.show()"
   ]
  },
  {
   "cell_type": "code",
   "execution_count": 16,
   "metadata": {},
   "outputs": [
    {
     "data": {
      "image/png": "[encoded data removed]",
      "text/plain": [
       "<Figure size 432x288 with 1 Axes>"
      ]
     },
     "metadata": {
      "needs_background": "light"
     },
     "output_type": "display_data"
    }
   ],
   "source": [
    "# Plotting the traning and validation accuracy\n",
    "plt.clf()\n",
    "acc = history.history['accuracy']\n",
    "val_acc = history.history['val_accuracy']\n",
    "plt.plot(epochs, acc, 'bo', label='Training acc')\n",
    "plt.plot(epochs, val_acc, 'b', label='Validation acc')\n",
    "plt.title('Training and validation accuracy')\n",
    "plt.xlabel('Epochs')\n",
    "plt.ylabel('Accuracy')\n",
    "plt.legend()\n",
    "plt.show()"
   ]
  },
  {
   "attachments": {},
   "cell_type": "markdown",
   "metadata": {},
   "source": [
    "## Task: Experiment with layers\n",
    "\n",
    "We have a output layer with 46 nodes. What happens to the accuracy when we reduce the number of nodes the second intermediate layer\n",
    "to 1?"
   ]
  },
  {
   "cell_type": "code",
   "execution_count": null,
   "metadata": {},
   "outputs": [],
   "source": []
  },
  {
   "cell_type": "code",
   "execution_count": null,
   "metadata": {},
   "outputs": [],
   "source": []
  },
  {
   "cell_type": "code",
   "execution_count": null,
   "metadata": {},
   "outputs": [],
   "source": []
  },
  {
   "cell_type": "code",
   "execution_count": null,
   "metadata": {},
   "outputs": [],
   "source": []
  },
  {
   "cell_type": "code",
   "execution_count": null,
   "metadata": {},
   "outputs": [],
   "source": []
  },
  {
   "attachments": {},
   "cell_type": "markdown",
   "metadata": {},
   "source": [
    "### Solution:"
   ]
  },
  {
   "cell_type": "code",
   "execution_count": 93,
   "metadata": {},
   "outputs": [
    {
     "name": "stdout",
     "output_type": "stream",
     "text": [
      "Epoch 1/20\n",
      "13/63 [=====>........................] - ETA: 0s - loss: 3.8197 - accuracy: 0.2716  "
     ]
    },
    {
     "name": "stderr",
     "output_type": "stream",
     "text": [
      "2022-05-18 17:10:34.522373: I tensorflow/core/grappler/optimizers/custom_graph_optimizer_registry.cc:113] Plugin optimizer for device_type GPU is enabled.\n"
     ]
    },
    {
     "name": "stdout",
     "output_type": "stream",
     "text": [
      "63/63 [==============================] - 1s 11ms/step - loss: 3.7795 - accuracy: 0.3365 - val_loss: 3.7269 - val_accuracy: 0.3540\n",
      "Epoch 2/20\n",
      "13/63 [=====>........................] - ETA: 0s - loss: 3.7163 - accuracy: 0.3750"
     ]
    },
    {
     "name": "stderr",
     "output_type": "stream",
     "text": [
      "2022-05-18 17:10:35.188931: I tensorflow/core/grappler/optimizers/custom_graph_optimizer_registry.cc:113] Plugin optimizer for device_type GPU is enabled.\n"
     ]
    },
    {
     "name": "stdout",
     "output_type": "stream",
     "text": [
      "63/63 [==============================] - 1s 10ms/step - loss: 3.6802 - accuracy: 0.3514 - val_loss: 3.6283 - val_accuracy: 0.3540\n",
      "Epoch 3/20\n",
      "63/63 [==============================] - 1s 9ms/step - loss: 3.5840 - accuracy: 0.3514 - val_loss: 3.5324 - val_accuracy: 0.3540\n",
      "Epoch 4/20\n",
      "63/63 [==============================] - 1s 9ms/step - loss: 3.4904 - accuracy: 0.3514 - val_loss: 3.4391 - val_accuracy: 0.3540\n",
      "Epoch 5/20\n",
      "63/63 [==============================] - 1s 9ms/step - loss: 3.3989 - accuracy: 0.3514 - val_loss: 3.3469 - val_accuracy: 0.3540\n",
      "Epoch 6/20\n",
      "63/63 [==============================] - 1s 9ms/step - loss: 3.3065 - accuracy: 0.3514 - val_loss: 3.2515 - val_accuracy: 0.3540\n",
      "Epoch 7/20\n",
      "63/63 [==============================] - 1s 9ms/step - loss: 3.2055 - accuracy: 0.3514 - val_loss: 3.1399 - val_accuracy: 0.3540\n",
      "Epoch 8/20\n",
      "63/63 [==============================] - 1s 10ms/step - loss: 3.0747 - accuracy: 0.3514 - val_loss: 2.9795 - val_accuracy: 0.3540\n",
      "Epoch 9/20\n",
      "63/63 [==============================] - 1s 9ms/step - loss: 2.8747 - accuracy: 0.3514 - val_loss: 2.7404 - val_accuracy: 0.3540\n",
      "Epoch 10/20\n",
      "63/63 [==============================] - 1s 11ms/step - loss: 2.6451 - accuracy: 0.3514 - val_loss: 2.5496 - val_accuracy: 0.3540\n",
      "Epoch 11/20\n",
      "63/63 [==============================] - 1s 10ms/step - loss: 2.5107 - accuracy: 0.3514 - val_loss: 2.4610 - val_accuracy: 0.3540\n",
      "Epoch 12/20\n",
      "63/63 [==============================] - 1s 10ms/step - loss: 2.4436 - accuracy: 0.3514 - val_loss: 2.4088 - val_accuracy: 0.3540\n",
      "Epoch 13/20\n",
      "63/63 [==============================] - 1s 10ms/step - loss: 2.3983 - accuracy: 0.3514 - val_loss: 2.3696 - val_accuracy: 0.3540\n",
      "Epoch 14/20\n",
      "63/63 [==============================] - 1s 10ms/step - loss: 2.3615 - accuracy: 0.3514 - val_loss: 2.3355 - val_accuracy: 0.3540\n",
      "Epoch 15/20\n",
      "63/63 [==============================] - 1s 9ms/step - loss: 2.3300 - accuracy: 0.3695 - val_loss: 2.3059 - val_accuracy: 0.4460\n",
      "Epoch 16/20\n",
      "63/63 [==============================] - 1s 10ms/step - loss: 2.3019 - accuracy: 0.4549 - val_loss: 2.2795 - val_accuracy: 0.4610\n",
      "Epoch 17/20\n",
      "63/63 [==============================] - 1s 11ms/step - loss: 2.2766 - accuracy: 0.4660 - val_loss: 2.2554 - val_accuracy: 0.4830\n",
      "Epoch 18/20\n",
      "63/63 [==============================] - 1s 10ms/step - loss: 2.2537 - accuracy: 0.4742 - val_loss: 2.2339 - val_accuracy: 0.4910\n",
      "Epoch 19/20\n",
      "63/63 [==============================] - 1s 10ms/step - loss: 2.2328 - accuracy: 0.4862 - val_loss: 2.2141 - val_accuracy: 0.4960\n",
      "Epoch 20/20\n",
      "63/63 [==============================] - 1s 9ms/step - loss: 2.2134 - accuracy: 0.4921 - val_loss: 2.1962 - val_accuracy: 0.4960\n"
     ]
    }
   ],
   "source": [
    "#### Change number of nodes from 64 to 1\n",
    "#### This causes a information bottleneck!!!\n",
    "model = models.Sequential()\n",
    "model.add(layers.Dense(64, activation='relu', input_shape=(10000,)))\n",
    "model.add(layers.Dense(1, activation='relu'))\n",
    "model.add(layers.Dense(46, activation='softmax'))\n",
    "model.compile(optimizer='SGD',loss='categorical_crossentropy',metrics=['accuracy'])\n",
    "history = model.fit(partial_x_train, partial_y_train, epochs=20, batch_size=128, validation_data=(x_val, y_val))"
   ]
  },
  {
   "cell_type": "code",
   "execution_count": 94,
   "metadata": {
    "scrolled": true
   },
   "outputs": [
    {
     "data": {
      "image/png": "[encoded data removed]",
      "text/plain": [
       "<Figure size 432x288 with 1 Axes>"
      ]
     },
     "metadata": {
      "needs_background": "light"
     },
     "output_type": "display_data"
    }
   ],
   "source": [
    "loss = history.history['loss']\n",
    "val_loss = history.history['val_loss']\n",
    "\n",
    "epochs = range(1, len(loss) + 1)\n",
    "\n",
    "plt.plot(epochs, loss, 'bo', label='Training loss')\n",
    "plt.plot(epochs, val_loss, 'b', label='Validation loss')\n",
    "plt.title('Training and validation loss')\n",
    "plt.xlabel('Epochs')\n",
    "plt.ylabel('Loss')\n",
    "plt.legend()\n",
    "plt.show()"
   ]
  },
  {
   "cell_type": "code",
   "execution_count": 95,
   "metadata": {},
   "outputs": [
    {
     "data": {
      "image/png": "[encoded data removed]",
      "text/plain": [
       "<Figure size 432x288 with 1 Axes>"
      ]
     },
     "metadata": {
      "needs_background": "light"
     },
     "output_type": "display_data"
    }
   ],
   "source": [
    "# Plotting the traning and validation accuracy\n",
    "plt.clf()\n",
    "acc = history.history['accuracy']\n",
    "val_acc = history.history['val_accuracy']\n",
    "plt.plot(epochs, acc, 'bo', label='Training acc')\n",
    "plt.plot(epochs, val_acc, 'b', label='Validation acc')\n",
    "plt.title('Training and validation accuracy')\n",
    "plt.xlabel('Epochs')\n",
    "plt.ylabel('Accuracy')\n",
    "plt.legend()\n",
    "plt.show()"
   ]
  },
  {
   "attachments": {},
   "cell_type": "markdown",
   "metadata": {},
   "source": [
    "## Task: Experiment with bag of words model\n",
    "The most basic bag of words model we used assigned a 1 to any word that is in the article, but it doesn't take into account **frequencies**.\n",
    "\n",
    "Can you think of a model that takes into account word frequencies?"
   ]
  },
  {
   "cell_type": "code",
   "execution_count": null,
   "metadata": {},
   "outputs": [],
   "source": []
  },
  {
   "cell_type": "code",
   "execution_count": null,
   "metadata": {},
   "outputs": [],
   "source": []
  },
  {
   "cell_type": "code",
   "execution_count": null,
   "metadata": {},
   "outputs": [],
   "source": []
  },
  {
   "cell_type": "code",
   "execution_count": null,
   "metadata": {},
   "outputs": [],
   "source": []
  },
  {
   "cell_type": "code",
   "execution_count": null,
   "metadata": {},
   "outputs": [],
   "source": []
  },
  {
   "attachments": {},
   "cell_type": "markdown",
   "metadata": {},
   "source": [
    "### Solution"
   ]
  },
  {
   "cell_type": "code",
   "execution_count": 96,
   "metadata": {},
   "outputs": [],
   "source": [
    "# Bag Of Words Model\n",
    "def vectorize_sequences(sequences, dimension=10000):\n",
    "    results = np.zeros((len(sequences), dimension))\n",
    "    for i, sequence in enumerate(sequences):\n",
    "        for word in sequence:\n",
    "            results[i, word] += 1.\n",
    "    return results\n",
    "\n",
    "x_train = vectorize_sequences(train_data)\n",
    "x_test = vectorize_sequences(test_data)"
   ]
  },
  {
   "cell_type": "code",
   "execution_count": 97,
   "metadata": {},
   "outputs": [
    {
     "data": {
      "text/plain": [
       "array([[0., 1., 2., ..., 0., 0., 0.],\n",
       "       [0., 1., 5., ..., 0., 0., 0.],\n",
       "       [0., 1., 3., ..., 0., 0., 0.],\n",
       "       ...,\n",
       "       [0., 1., 8., ..., 0., 0., 0.],\n",
       "       [0., 1., 1., ..., 0., 0., 0.],\n",
       "       [0., 1., 2., ..., 0., 0., 0.]])"
      ]
     },
     "execution_count": 97,
     "metadata": {},
     "output_type": "execute_result"
    }
   ],
   "source": [
    "x_train"
   ]
  },
  {
   "cell_type": "code",
   "execution_count": 98,
   "metadata": {},
   "outputs": [
    {
     "name": "stdout",
     "output_type": "stream",
     "text": [
      "Epoch 1/20\n",
      "11/16 [===================>..........] - ETA: 0s - loss: 3.7067 - accuracy: 0.1916"
     ]
    },
    {
     "name": "stderr",
     "output_type": "stream",
     "text": [
      "2022-05-18 17:10:48.107401: I tensorflow/core/grappler/optimizers/custom_graph_optimizer_registry.cc:113] Plugin optimizer for device_type GPU is enabled.\n"
     ]
    },
    {
     "name": "stdout",
     "output_type": "stream",
     "text": [
      "16/16 [==============================] - 1s 23ms/step - loss: 3.6671 - accuracy: 0.2081 - val_loss: 3.5033 - val_accuracy: 0.3250\n",
      "Epoch 2/20\n",
      "11/16 [===================>..........] - ETA: 0s - loss: 3.4291 - accuracy: 0.4244"
     ]
    },
    {
     "name": "stderr",
     "output_type": "stream",
     "text": [
      "2022-05-18 17:10:48.457222: I tensorflow/core/grappler/optimizers/custom_graph_optimizer_registry.cc:113] Plugin optimizer for device_type GPU is enabled.\n"
     ]
    },
    {
     "name": "stdout",
     "output_type": "stream",
     "text": [
      "16/16 [==============================] - 0s 13ms/step - loss: 3.3831 - accuracy: 0.4427 - val_loss: 3.1755 - val_accuracy: 0.4920\n",
      "Epoch 3/20\n",
      "16/16 [==============================] - 0s 13ms/step - loss: 3.0085 - accuracy: 0.4967 - val_loss: 2.7896 - val_accuracy: 0.5140\n",
      "Epoch 4/20\n",
      "16/16 [==============================] - 0s 14ms/step - loss: 2.6581 - accuracy: 0.5134 - val_loss: 2.5072 - val_accuracy: 0.5270\n",
      "Epoch 5/20\n",
      "16/16 [==============================] - 0s 14ms/step - loss: 2.4230 - accuracy: 0.5264 - val_loss: 2.3287 - val_accuracy: 0.5360\n",
      "Epoch 6/20\n",
      "16/16 [==============================] - 0s 13ms/step - loss: 2.2670 - accuracy: 0.5441 - val_loss: 2.2030 - val_accuracy: 0.5570\n",
      "Epoch 7/20\n",
      "16/16 [==============================] - 0s 12ms/step - loss: 2.1504 - accuracy: 0.5600 - val_loss: 2.1014 - val_accuracy: 0.5610\n",
      "Epoch 8/20\n",
      "16/16 [==============================] - 0s 12ms/step - loss: 2.0581 - accuracy: 0.5717 - val_loss: 2.0180 - val_accuracy: 0.5710\n",
      "Epoch 9/20\n",
      "16/16 [==============================] - 0s 12ms/step - loss: 1.9828 - accuracy: 0.5801 - val_loss: 1.9462 - val_accuracy: 0.5810\n",
      "Epoch 10/20\n",
      "16/16 [==============================] - 0s 12ms/step - loss: 1.9200 - accuracy: 0.5887 - val_loss: 1.8884 - val_accuracy: 0.5860\n",
      "Epoch 11/20\n",
      "16/16 [==============================] - 0s 13ms/step - loss: 1.8674 - accuracy: 0.5963 - val_loss: 1.8365 - val_accuracy: 0.5960\n",
      "Epoch 12/20\n",
      "16/16 [==============================] - 0s 13ms/step - loss: 1.8202 - accuracy: 0.6035 - val_loss: 1.7947 - val_accuracy: 0.6110\n",
      "Epoch 13/20\n",
      "16/16 [==============================] - 0s 14ms/step - loss: 1.7797 - accuracy: 0.6105 - val_loss: 1.7558 - val_accuracy: 0.6170\n",
      "Epoch 14/20\n",
      "16/16 [==============================] - 0s 14ms/step - loss: 1.7441 - accuracy: 0.6171 - val_loss: 1.7240 - val_accuracy: 0.6150\n",
      "Epoch 15/20\n",
      "16/16 [==============================] - 0s 12ms/step - loss: 1.7121 - accuracy: 0.6234 - val_loss: 1.6969 - val_accuracy: 0.6240\n",
      "Epoch 16/20\n",
      "16/16 [==============================] - 0s 12ms/step - loss: 1.6829 - accuracy: 0.6310 - val_loss: 1.6674 - val_accuracy: 0.6220\n",
      "Epoch 17/20\n",
      "16/16 [==============================] - 0s 12ms/step - loss: 1.6558 - accuracy: 0.6332 - val_loss: 1.6417 - val_accuracy: 0.6310\n",
      "Epoch 18/20\n",
      "16/16 [==============================] - 0s 12ms/step - loss: 1.6314 - accuracy: 0.6396 - val_loss: 1.6207 - val_accuracy: 0.6270\n",
      "Epoch 19/20\n",
      "16/16 [==============================] - 0s 13ms/step - loss: 1.6085 - accuracy: 0.6422 - val_loss: 1.6036 - val_accuracy: 0.6370\n",
      "Epoch 20/20\n",
      "16/16 [==============================] - 0s 13ms/step - loss: 1.5879 - accuracy: 0.6483 - val_loss: 1.5827 - val_accuracy: 0.6440\n"
     ]
    }
   ],
   "source": [
    "# Bag Of Words Model\n",
    "def vectorize_sequences(sequences, dimension=10000):\n",
    "    results = np.zeros((len(sequences), dimension))\n",
    "    for i, sequence in enumerate(sequences):\n",
    "        for word in sequence:\n",
    "            results[i, word] += 1.\n",
    "    return results\n",
    "\n",
    "x_train = vectorize_sequences(train_data)\n",
    "x_test = vectorize_sequences(test_data)\n",
    "\n",
    "# The raw network architecture\n",
    "model = models.Sequential()\n",
    "model.add(layers.Dense(64, activation='relu', input_shape=(10000,)))\n",
    "model.add(layers.Dense(64, activation='relu'))\n",
    "model.add(layers.Dense(46, activation='softmax'))\n",
    "\n",
    "# Compile\n",
    "model.compile(optimizer='SGD', loss='categorical_crossentropy', metrics=['accuracy'])\n",
    "\n",
    "# Transform to \"dummy\" columns \n",
    "from keras.utils.np_utils import to_categorical\n",
    "one_hot_train_labels = to_categorical(train_labels)\n",
    "one_hot_test_labels = to_categorical(test_labels)\n",
    "\n",
    "# Validation Set\n",
    "x_val = x_train[:1000]\n",
    "partial_x_train = x_train[1000:]\n",
    "y_val = one_hot_train_labels[:1000]\n",
    "partial_y_train = one_hot_train_labels[1000:]\n",
    "\n",
    "# Fit\n",
    "history = model.fit(partial_x_train, partial_y_train, epochs=20, batch_size=512, validation_data=(x_val, y_val))"
   ]
  },
  {
   "cell_type": "code",
   "execution_count": 99,
   "metadata": {
    "scrolled": true
   },
   "outputs": [
    {
     "data": {
      "image/png": "[encoded data removed]",
      "text/plain": [
       "<Figure size 432x288 with 1 Axes>"
      ]
     },
     "metadata": {
      "needs_background": "light"
     },
     "output_type": "display_data"
    }
   ],
   "source": [
    "loss = history.history['loss']\n",
    "val_loss = history.history['val_loss']\n",
    "\n",
    "epochs = range(1, len(loss) + 1)\n",
    "\n",
    "plt.plot(epochs, loss, 'bo', label='Training loss')\n",
    "plt.plot(epochs, val_loss, 'b', label='Validation loss')\n",
    "plt.title('Training and validation loss')\n",
    "plt.xlabel('Epochs')\n",
    "plt.ylabel('Loss')\n",
    "plt.legend()\n",
    "plt.show()"
   ]
  },
  {
   "cell_type": "code",
   "execution_count": 100,
   "metadata": {},
   "outputs": [
    {
     "data": {
      "image/png": "[encoded data removed]",
      "text/plain": [
       "<Figure size 432x288 with 1 Axes>"
      ]
     },
     "metadata": {
      "needs_background": "light"
     },
     "output_type": "display_data"
    }
   ],
   "source": [
    "# Plotting the traning and validation accuracy\n",
    "plt.clf()\n",
    "acc = history.history['accuracy']\n",
    "val_acc = history.history['val_accuracy']\n",
    "plt.plot(epochs, acc, 'bo', label='Training acc')\n",
    "plt.plot(epochs, val_acc, 'b', label='Validation acc')\n",
    "plt.title('Training and validation accuracy')\n",
    "plt.xlabel('Epochs')\n",
    "plt.ylabel('Accuracy')\n",
    "plt.legend()\n",
    "plt.show()"
   ]
  },
  {
   "attachments": {},
   "cell_type": "markdown",
   "metadata": {},
   "source": [
    "### Take-Home Message:\n",
    "\n",
    "1. N Classes => N Output Nodes\n",
    "2. Output Layer should be a SoftMAX Activation function (provided that you want to a assign each data point to ONE class)\n",
    "3. Categorical Crossentropy is in many cases the loss function you should use for classification\n",
    "4. Avoid Information Bottlenecks (i.e., don't use hidden layers with too few nodes)\n",
    "5. Pre-processing inputs in a clever way can be more important than network tuning!"
   ]
  },
  {
   "attachments": {},
   "cell_type": "markdown",
   "metadata": {},
   "source": [
    "### 2. Regression with Deep Learning"
   ]
  },
  {
   "cell_type": "code",
   "execution_count": 2,
   "metadata": {},
   "outputs": [],
   "source": [
    "from tensorflow.keras.datasets import boston_housing\n",
    "(train_data, train_targets), (test_data, test_targets) = boston_housing.load_data()"
   ]
  },
  {
   "cell_type": "code",
   "execution_count": 3,
   "metadata": {},
   "outputs": [
    {
     "data": {
      "text/plain": [
       "(404, 13)"
      ]
     },
     "execution_count": 3,
     "metadata": {},
     "output_type": "execute_result"
    }
   ],
   "source": [
    "# Traning Data\n",
    "train_data.shape"
   ]
  },
  {
   "cell_type": "code",
   "execution_count": 4,
   "metadata": {},
   "outputs": [
    {
     "data": {
      "text/plain": [
       "(102, 13)"
      ]
     },
     "execution_count": 4,
     "metadata": {},
     "output_type": "execute_result"
    }
   ],
   "source": [
    "# Test Data\n",
    "test_data.shape"
   ]
  },
  {
   "cell_type": "code",
   "execution_count": 5,
   "metadata": {},
   "outputs": [
    {
     "data": {
      "text/plain": [
       "array([15.2, 42.3, 50. , 21.1, 17.7, 18.5, 11.3, 15.6, 15.6, 14.4, 12.1,\n",
       "       17.9, 23.1, 19.9, 15.7,  8.8, 50. , 22.5, 24.1, 27.5, 10.9, 30.8,\n",
       "       32.9, 24. , 18.5, 13.3, 22.9, 34.7, 16.6, 17.5, 22.3, 16.1, 14.9,\n",
       "       23.1, 34.9, 25. , 13.9, 13.1, 20.4, 20. , 15.2, 24.7, 22.2, 16.7,\n",
       "       12.7, 15.6, 18.4, 21. , 30.1, 15.1, 18.7,  9.6, 31.5, 24.8, 19.1,\n",
       "       22. , 14.5, 11. , 32. , 29.4, 20.3, 24.4, 14.6, 19.5, 14.1, 14.3,\n",
       "       15.6, 10.5,  6.3, 19.3, 19.3, 13.4, 36.4, 17.8, 13.5, 16.5,  8.3,\n",
       "       14.3, 16. , 13.4, 28.6, 43.5, 20.2, 22. , 23. , 20.7, 12.5, 48.5,\n",
       "       14.6, 13.4, 23.7, 50. , 21.7, 39.8, 38.7, 22.2, 34.9, 22.5, 31.1,\n",
       "       28.7, 46. , 41.7, 21. , 26.6, 15. , 24.4, 13.3, 21.2, 11.7, 21.7,\n",
       "       19.4, 50. , 22.8, 19.7, 24.7, 36.2, 14.2, 18.9, 18.3, 20.6, 24.6,\n",
       "       18.2,  8.7, 44. , 10.4, 13.2, 21.2, 37. , 30.7, 22.9, 20. , 19.3,\n",
       "       31.7, 32. , 23.1, 18.8, 10.9, 50. , 19.6,  5. , 14.4, 19.8, 13.8,\n",
       "       19.6, 23.9, 24.5, 25. , 19.9, 17.2, 24.6, 13.5, 26.6, 21.4, 11.9,\n",
       "       22.6, 19.6,  8.5, 23.7, 23.1, 22.4, 20.5, 23.6, 18.4, 35.2, 23.1,\n",
       "       27.9, 20.6, 23.7, 28. , 13.6, 27.1, 23.6, 20.6, 18.2, 21.7, 17.1,\n",
       "        8.4, 25.3, 13.8, 22.2, 18.4, 20.7, 31.6, 30.5, 20.3,  8.8, 19.2,\n",
       "       19.4, 23.1, 23. , 14.8, 48.8, 22.6, 33.4, 21.1, 13.6, 32.2, 13.1,\n",
       "       23.4, 18.9, 23.9, 11.8, 23.3, 22.8, 19.6, 16.7, 13.4, 22.2, 20.4,\n",
       "       21.8, 26.4, 14.9, 24.1, 23.8, 12.3, 29.1, 21. , 19.5, 23.3, 23.8,\n",
       "       17.8, 11.5, 21.7, 19.9, 25. , 33.4, 28.5, 21.4, 24.3, 27.5, 33.1,\n",
       "       16.2, 23.3, 48.3, 22.9, 22.8, 13.1, 12.7, 22.6, 15. , 15.3, 10.5,\n",
       "       24. , 18.5, 21.7, 19.5, 33.2, 23.2,  5. , 19.1, 12.7, 22.3, 10.2,\n",
       "       13.9, 16.3, 17. , 20.1, 29.9, 17.2, 37.3, 45.4, 17.8, 23.2, 29. ,\n",
       "       22. , 18. , 17.4, 34.6, 20.1, 25. , 15.6, 24.8, 28.2, 21.2, 21.4,\n",
       "       23.8, 31. , 26.2, 17.4, 37.9, 17.5, 20. ,  8.3, 23.9,  8.4, 13.8,\n",
       "        7.2, 11.7, 17.1, 21.6, 50. , 16.1, 20.4, 20.6, 21.4, 20.6, 36.5,\n",
       "        8.5, 24.8, 10.8, 21.9, 17.3, 18.9, 36.2, 14.9, 18.2, 33.3, 21.8,\n",
       "       19.7, 31.6, 24.8, 19.4, 22.8,  7.5, 44.8, 16.8, 18.7, 50. , 50. ,\n",
       "       19.5, 20.1, 50. , 17.2, 20.8, 19.3, 41.3, 20.4, 20.5, 13.8, 16.5,\n",
       "       23.9, 20.6, 31.5, 23.3, 16.8, 14. , 33.8, 36.1, 12.8, 18.3, 18.7,\n",
       "       19.1, 29. , 30.1, 50. , 50. , 22. , 11.9, 37.6, 50. , 22.7, 20.8,\n",
       "       23.5, 27.9, 50. , 19.3, 23.9, 22.6, 15.2, 21.7, 19.2, 43.8, 20.3,\n",
       "       33.2, 19.9, 22.5, 32.7, 22. , 17.1, 19. , 15. , 16.1, 25.1, 23.7,\n",
       "       28.7, 37.2, 22.6, 16.4, 25. , 29.8, 22.1, 17.4, 18.1, 30.3, 17.5,\n",
       "       24.7, 12.6, 26.5, 28.7, 13.3, 10.4, 24.4, 23. , 20. , 17.8,  7. ,\n",
       "       11.8, 24.4, 13.8, 19.4, 25.2, 19.4, 19.4, 29.1])"
      ]
     },
     "execution_count": 5,
     "metadata": {},
     "output_type": "execute_result"
    }
   ],
   "source": [
    "# Numerical Targets \n",
    "train_targets"
   ]
  },
  {
   "attachments": {},
   "cell_type": "markdown",
   "metadata": {},
   "source": [
    "#### Preparing the data"
   ]
  },
  {
   "cell_type": "code",
   "execution_count": 6,
   "metadata": {},
   "outputs": [],
   "source": [
    "# Standardizing the values (center around 0, std of 1)\n",
    "mean = train_data.mean(axis=0)\n",
    "train_data -= mean\n",
    "std = train_data.std(axis=0)\n",
    "train_data /= std\n",
    "\n",
    "test_data -= mean\n",
    "test_data /= std"
   ]
  },
  {
   "cell_type": "code",
   "execution_count": 10,
   "metadata": {},
   "outputs": [],
   "source": [
    "#### Building the network\n",
    "\n",
    "from tensorflow.keras import models\n",
    "from tensorflow.keras import layers\n",
    "from tensorflow.keras.optimizers import RMSprop\n",
    "\n",
    "def build_model():\n",
    "    model = models.Sequential()\n",
    "    model.add(layers.Dense(64, activation='relu', input_shape=(train_data.shape[1],)))\n",
    "    model.add(layers.Dense(64, activation='relu'))\n",
    "    model.add(layers.Dense(1))\n",
    "    # MSE = Mean Squared Error\n",
    "    # MAE = Mean Absolut Error\n",
    "    # RMSPROP adaptive learning method based on Stochastic Gradient Descent\n",
    "    # If you use SGD, your network might not converge....\n",
    "    opt = RMSprop(lr=0.001)\n",
    "    model.compile(optimizer=opt, loss='mse', metrics=['mae'])\n",
    "    return model"
   ]
  },
  {
   "attachments": {},
   "cell_type": "markdown",
   "metadata": {},
   "source": [
    "#### Introducing cross validation"
   ]
  },
  {
   "attachments": {},
   "cell_type": "markdown",
   "metadata": {},
   "source": [
    "Since we have so little data, the variance of the validation set might be high. To cope, we use k-fold cross validation."
   ]
  },
  {
   "cell_type": "code",
   "execution_count": 11,
   "metadata": {},
   "outputs": [
    {
     "name": "stdout",
     "output_type": "stream",
     "text": [
      "processing fold # 0\n"
     ]
    },
    {
     "name": "stderr",
     "output_type": "stream",
     "text": [
      "/Users/janik/miniconda3/envs/AAA/lib/python3.9/site-packages/keras/optimizers/optimizer_v2/rmsprop.py:135: UserWarning: The `lr` argument is deprecated, use `learning_rate` instead.\n",
      "  super(RMSprop, self).__init__(name, **kwargs)\n",
      "2023-05-15 14:55:18.205669: W tensorflow/core/platform/profile_utils/cpu_utils.cc:128] Failed to get CPU frequency: 0 Hz\n",
      "2023-05-15 14:55:18.507211: I tensorflow/core/grappler/optimizers/custom_graph_optimizer_registry.cc:113] Plugin optimizer for device_type GPU is enabled.\n",
      "2023-05-15 14:57:26.424306: I tensorflow/core/grappler/optimizers/custom_graph_optimizer_registry.cc:113] Plugin optimizer for device_type GPU is enabled.\n"
     ]
    },
    {
     "name": "stdout",
     "output_type": "stream",
     "text": [
      "processing fold # 1\n"
     ]
    },
    {
     "name": "stderr",
     "output_type": "stream",
     "text": [
      "2023-05-15 14:57:27.145978: I tensorflow/core/grappler/optimizers/custom_graph_optimizer_registry.cc:113] Plugin optimizer for device_type GPU is enabled.\n",
      "2023-05-15 14:59:40.422910: I tensorflow/core/grappler/optimizers/custom_graph_optimizer_registry.cc:113] Plugin optimizer for device_type GPU is enabled.\n"
     ]
    },
    {
     "name": "stdout",
     "output_type": "stream",
     "text": [
      "processing fold # 2\n"
     ]
    },
    {
     "name": "stderr",
     "output_type": "stream",
     "text": [
      "2023-05-15 14:59:40.708207: I tensorflow/core/grappler/optimizers/custom_graph_optimizer_registry.cc:113] Plugin optimizer for device_type GPU is enabled.\n",
      "2023-05-15 15:01:55.963572: I tensorflow/core/grappler/optimizers/custom_graph_optimizer_registry.cc:113] Plugin optimizer for device_type GPU is enabled.\n"
     ]
    },
    {
     "name": "stdout",
     "output_type": "stream",
     "text": [
      "processing fold # 3\n"
     ]
    },
    {
     "name": "stderr",
     "output_type": "stream",
     "text": [
      "2023-05-15 15:01:56.246377: I tensorflow/core/grappler/optimizers/custom_graph_optimizer_registry.cc:113] Plugin optimizer for device_type GPU is enabled.\n",
      "2023-05-15 15:04:06.201361: I tensorflow/core/grappler/optimizers/custom_graph_optimizer_registry.cc:113] Plugin optimizer for device_type GPU is enabled.\n"
     ]
    }
   ],
   "source": [
    "import numpy as np\n",
    "\n",
    "k = 4\n",
    "num_val_samples = len(train_data) // k # returns an integer instead of float\n",
    "num_epochs = 100\n",
    "all_scores = []\n",
    "\n",
    "for i in range(k):\n",
    "    print('processing fold #', i) \n",
    "    val_data = train_data[i * num_val_samples: (i + 1) * num_val_samples]    # Slice Get Validation Data \n",
    "    val_targets = train_targets[i * num_val_samples: (i + 1) * num_val_samples] # Slice Val. Target Data\n",
    "    \n",
    "    # Exclude validation data from the training data\n",
    "    partial_train_data = np.concatenate(\n",
    "        [\n",
    "            train_data[:i * num_val_samples],\n",
    "            train_data[(i + 1) * num_val_samples:]\n",
    "        ],\n",
    "        axis=0)\n",
    "    partial_train_targets = np.concatenate(\n",
    "        [\n",
    "            train_targets[:i * num_val_samples],\n",
    "            train_targets[(i + 1) * num_val_samples:]\n",
    "        ],\n",
    "        axis=0)\n",
    "    \n",
    "    # Build Model\n",
    "    model = build_model()\n",
    "    \n",
    "    # Fit Model\n",
    "    model.fit(partial_train_data, partial_train_targets, epochs=num_epochs, batch_size=1, verbose=0)\n",
    "    \n",
    "    # Evaluate Model\n",
    "    val_mse, val_mae = model.evaluate(val_data, val_targets, verbose=0)\n",
    "    \n",
    "    # Add Mean Absolut Error to All Scored List\n",
    "    all_scores.append(val_mae)"
   ]
  },
  {
   "cell_type": "code",
   "execution_count": 12,
   "metadata": {},
   "outputs": [
    {
     "data": {
      "text/plain": [
       "[2.1742238998413086, 2.9852211475372314, 2.897145986557007, 2.7018625736236572]"
      ]
     },
     "execution_count": 12,
     "metadata": {},
     "output_type": "execute_result"
    }
   ],
   "source": [
    "# Get MAE for each k-fold set\n",
    "all_scores"
   ]
  },
  {
   "cell_type": "code",
   "execution_count": 13,
   "metadata": {},
   "outputs": [
    {
     "data": {
      "text/plain": [
       "2.689613401889801"
      ]
     },
     "execution_count": 13,
     "metadata": {},
     "output_type": "execute_result"
    }
   ],
   "source": [
    "# Compute Average\n",
    "np.mean(all_scores)"
   ]
  },
  {
   "cell_type": "code",
   "execution_count": 14,
   "metadata": {},
   "outputs": [],
   "source": [
    "# Okay, lets analyze how the validation error depends on the number of epochs \n",
    "# Rerun..."
   ]
  },
  {
   "cell_type": "code",
   "execution_count": 15,
   "metadata": {},
   "outputs": [
    {
     "name": "stdout",
     "output_type": "stream",
     "text": [
      "processing fold # 0\n"
     ]
    },
    {
     "name": "stderr",
     "output_type": "stream",
     "text": [
      "2023-05-15 15:37:11.384851: I tensorflow/core/grappler/optimizers/custom_graph_optimizer_registry.cc:113] Plugin optimizer for device_type GPU is enabled.\n"
     ]
    },
    {
     "name": "stdout",
     "output_type": "stream",
     "text": [
      "processing fold # 1\n"
     ]
    },
    {
     "name": "stderr",
     "output_type": "stream",
     "text": [
      "2023-05-15 15:44:04.074134: I tensorflow/core/grappler/optimizers/custom_graph_optimizer_registry.cc:113] Plugin optimizer for device_type GPU is enabled.\n"
     ]
    }
   ],
   "source": [
    "import numpy as np\n",
    "\n",
    "k = 2\n",
    "num_val_samples = len(train_data) // k # returns an integer instead of float\n",
    "num_epochs = 500\n",
    "all_mae_histories = [] # <-- This is changed\n",
    "\n",
    "for i in range(k):\n",
    "    print('processing fold #', i) \n",
    "    val_data = train_data[i * num_val_samples: (i + 1) * num_val_samples]    # Slice Get Validation Data \n",
    "    val_targets = train_targets[i * num_val_samples: (i + 1) * num_val_samples] # Slice Val. Target Data\n",
    "    \n",
    "    # Exclude validation data from the training data\n",
    "    partial_train_data = np.concatenate(\n",
    "        [\n",
    "            train_data[:i * num_val_samples],\n",
    "            train_data[(i + 1) * num_val_samples:]\n",
    "        ],\n",
    "        axis=0)\n",
    "    partial_train_targets = np.concatenate(\n",
    "        [\n",
    "            train_targets[:i * num_val_samples],\n",
    "            train_targets[(i + 1) * num_val_samples:]\n",
    "        ],\n",
    "        axis=0)\n",
    "    \n",
    "    # Build Model\n",
    "    model = build_model()\n",
    "    \n",
    "    # Fit Model # <-- This is changed\n",
    "    history = model.fit(partial_train_data, partial_train_targets, epochs=num_epochs, batch_size=1, verbose=0)\n",
    "    \n",
    "    # Cache MAE History  # <-- This is changed\n",
    "    mae_history = history.history['mae']  \n",
    "    \n",
    "    # Add Mean Absolut Error to All Scored List # <-- This is changed\n",
    "    all_mae_histories.append(mae_history)"
   ]
  },
  {
   "cell_type": "code",
   "execution_count": 20,
   "metadata": {},
   "outputs": [
    {
     "data": {
      "text/plain": [
       "[13.332703590393066,\n",
       " 4.7881903648376465,\n",
       " 3.6433956623077393,\n",
       " 3.2349843978881836,\n",
       " 2.9934580326080322,\n",
       " 2.775444984436035,\n",
       " 2.6302578449249268,\n",
       " 2.5869481563568115,\n",
       " 2.517595052719116,\n",
       " 2.4594502449035645,\n",
       " 2.3274381160736084,\n",
       " 2.3007001876831055,\n",
       " 2.286973476409912,\n",
       " 2.3666677474975586,\n",
       " 2.2166264057159424,\n",
       " 2.250563144683838,\n",
       " 2.2189383506774902,\n",
       " 2.173938035964966,\n",
       " 2.1437063217163086,\n",
       " 2.1270387172698975,\n",
       " 2.1852505207061768,\n",
       " 2.1227195262908936,\n",
       " 2.1184234619140625,\n",
       " 2.0429017543792725,\n",
       " 2.0837202072143555,\n",
       " 2.0782594680786133,\n",
       " 2.0695481300354004,\n",
       " 1.9681347608566284,\n",
       " 1.9605191946029663,\n",
       " 2.0203490257263184,\n",
       " 1.9582219123840332,\n",
       " 1.906895399093628,\n",
       " 1.8791797161102295,\n",
       " 1.9655200242996216,\n",
       " 1.9707176685333252,\n",
       " 1.9233121871948242,\n",
       " 1.8377946615219116,\n",
       " 1.880831241607666,\n",
       " 1.8378571271896362,\n",
       " 1.820807695388794,\n",
       " 1.839806318283081,\n",
       " 1.7827869653701782,\n",
       " 1.8701574802398682,\n",
       " 1.7774360179901123,\n",
       " 1.7106807231903076,\n",
       " 1.6997677087783813,\n",
       " 1.7470511198043823,\n",
       " 1.72150456905365,\n",
       " 1.6992969512939453,\n",
       " 1.6999515295028687,\n",
       " 1.6733747720718384,\n",
       " 1.6675317287445068,\n",
       " 1.6909774541854858,\n",
       " 1.6395364999771118,\n",
       " 1.6287548542022705,\n",
       " 1.6773568391799927,\n",
       " 1.7132505178451538,\n",
       " 1.6004050970077515,\n",
       " 1.619109034538269,\n",
       " 1.6167881488800049,\n",
       " 1.7014520168304443,\n",
       " 1.5788379907608032,\n",
       " 1.57917320728302,\n",
       " 1.6065342426300049,\n",
       " 1.6303821802139282,\n",
       " 1.5809729099273682,\n",
       " 1.4873164892196655,\n",
       " 1.566096544265747,\n",
       " 1.4553024768829346,\n",
       " 1.5692094564437866,\n",
       " 1.5518769025802612,\n",
       " 1.5118346214294434,\n",
       " 1.5599836111068726,\n",
       " 1.525069236755371,\n",
       " 1.4867955446243286,\n",
       " 1.5135451555252075,\n",
       " 1.4973194599151611,\n",
       " 1.5101065635681152,\n",
       " 1.4471908807754517,\n",
       " 1.4835929870605469,\n",
       " 1.4649972915649414,\n",
       " 1.4811699390411377,\n",
       " 1.4246474504470825,\n",
       " 1.5025477409362793,\n",
       " 1.369255542755127,\n",
       " 1.4390853643417358,\n",
       " 1.4145931005477905,\n",
       " 1.3376572132110596,\n",
       " 1.4753786325454712,\n",
       " 1.392641544342041,\n",
       " 1.3964207172393799,\n",
       " 1.4575598239898682,\n",
       " 1.49448823928833,\n",
       " 1.4098743200302124,\n",
       " 1.3243963718414307,\n",
       " 1.3539942502975464,\n",
       " 1.4411938190460205,\n",
       " 1.330419898033142,\n",
       " 1.3251463174819946,\n",
       " 1.461501121520996,\n",
       " 1.3076376914978027,\n",
       " 1.4785507917404175,\n",
       " 1.4001809358596802,\n",
       " 1.3372164964675903,\n",
       " 1.3656293153762817,\n",
       " 1.3524795770645142,\n",
       " 1.3215258121490479,\n",
       " 1.3201433420181274,\n",
       " 1.2540382146835327,\n",
       " 1.3716282844543457,\n",
       " 1.3301572799682617,\n",
       " 1.3435701131820679,\n",
       " 1.2692232131958008,\n",
       " 1.2936328649520874,\n",
       " 1.2887884378433228,\n",
       " 1.3243740797042847,\n",
       " 1.3109829425811768,\n",
       " 1.26341712474823,\n",
       " 1.3171895742416382,\n",
       " 1.2609236240386963,\n",
       " 1.2383346557617188,\n",
       " 1.1777000427246094,\n",
       " 1.2384393215179443,\n",
       " 1.2407835721969604,\n",
       " 1.2640498876571655,\n",
       " 1.2276344299316406,\n",
       " 1.2219191789627075,\n",
       " 1.2131876945495605,\n",
       " 1.1445623636245728,\n",
       " 1.2464951276779175,\n",
       " 1.2059599161148071,\n",
       " 1.2785085439682007,\n",
       " 1.2298449277877808,\n",
       " 1.2893836498260498,\n",
       " 1.145914077758789,\n",
       " 1.1487410068511963,\n",
       " 1.2273863554000854,\n",
       " 1.1365795135498047,\n",
       " 1.1768571138381958,\n",
       " 1.1075308322906494,\n",
       " 1.1257588863372803,\n",
       " 1.2120254039764404,\n",
       " 1.1582237482070923,\n",
       " 1.1131654977798462,\n",
       " 1.0884788036346436,\n",
       " 1.0777114629745483,\n",
       " 1.1522455215454102,\n",
       " 1.1544525623321533,\n",
       " 1.0392968654632568,\n",
       " 1.1644963026046753,\n",
       " 1.1261310577392578,\n",
       " 1.1274759769439697,\n",
       " 1.0809354782104492,\n",
       " 1.0771257877349854,\n",
       " 1.0922662019729614,\n",
       " 1.1517606973648071,\n",
       " 1.1509761810302734,\n",
       " 1.1120445728302002,\n",
       " 1.1434553861618042,\n",
       " 1.1083061695098877,\n",
       " 1.104042887687683,\n",
       " 1.0630394220352173,\n",
       " 1.0368850231170654,\n",
       " 1.1013437509536743,\n",
       " 1.0960341691970825,\n",
       " 1.0623682737350464,\n",
       " 1.0711568593978882,\n",
       " 1.0983176231384277,\n",
       " 1.0258004665374756,\n",
       " 1.084439992904663,\n",
       " 1.0637776851654053,\n",
       " 1.078417181968689,\n",
       " 1.0650064945220947,\n",
       " 1.0505270957946777,\n",
       " 1.0578769445419312,\n",
       " 1.0666944980621338,\n",
       " 1.0350348949432373,\n",
       " 1.0099760293960571,\n",
       " 1.0231302976608276,\n",
       " 1.0274882316589355,\n",
       " 1.021875262260437,\n",
       " 0.9707621932029724,\n",
       " 1.0122333765029907,\n",
       " 1.063146710395813,\n",
       " 1.0488466024398804,\n",
       " 1.0285630226135254,\n",
       " 1.0111546516418457,\n",
       " 0.9802647233009338,\n",
       " 1.0471909046173096,\n",
       " 1.0005314350128174,\n",
       " 1.0198967456817627,\n",
       " 0.9414088129997253,\n",
       " 0.9389328360557556,\n",
       " 0.9834955334663391,\n",
       " 0.9595249891281128,\n",
       " 1.015297770500183,\n",
       " 1.0145666599273682,\n",
       " 0.984969437122345,\n",
       " 0.9516329765319824,\n",
       " 1.019649624824524,\n",
       " 0.9438459873199463,\n",
       " 1.0116747617721558,\n",
       " 0.9931154847145081,\n",
       " 0.958469033241272,\n",
       " 0.9686063528060913,\n",
       " 1.026511549949646,\n",
       " 0.9497895240783691,\n",
       " 0.8678132891654968,\n",
       " 0.9802602529525757,\n",
       " 0.9874504208564758,\n",
       " 0.9901326298713684,\n",
       " 1.001954436302185,\n",
       " 0.8768472075462341,\n",
       " 0.9635906219482422,\n",
       " 0.8724345564842224,\n",
       " 0.9176820516586304,\n",
       " 0.9516999125480652,\n",
       " 0.9296459555625916,\n",
       " 0.8770245313644409,\n",
       " 0.9124635457992554,\n",
       " 0.9379211068153381,\n",
       " 0.9451647400856018,\n",
       " 0.9150200486183167,\n",
       " 0.9210312962532043,\n",
       " 0.8964449167251587,\n",
       " 0.8923360705375671,\n",
       " 0.8993551135063171,\n",
       " 0.8981930017471313,\n",
       " 0.9161975979804993,\n",
       " 0.8424940705299377,\n",
       " 0.9410135746002197,\n",
       " 0.8593593835830688,\n",
       " 0.9204448461532593,\n",
       " 0.9028223752975464,\n",
       " 0.8903175592422485,\n",
       " 0.9060211181640625,\n",
       " 0.8720917701721191,\n",
       " 0.7727099061012268,\n",
       " 0.86198490858078,\n",
       " 0.8257206678390503,\n",
       " 0.8818640112876892,\n",
       " 0.9151318073272705,\n",
       " 0.8789985775947571,\n",
       " 0.8878397345542908,\n",
       " 0.8729268908500671,\n",
       " 0.8735418319702148,\n",
       " 0.8984931111335754,\n",
       " 0.8857765793800354,\n",
       " 0.8476265668869019,\n",
       " 0.8670797944068909,\n",
       " 0.8942022919654846,\n",
       " 0.8497910499572754,\n",
       " 0.8803248405456543,\n",
       " 0.8293330073356628,\n",
       " 0.8358849883079529,\n",
       " 0.8736088871955872,\n",
       " 0.8583608269691467,\n",
       " 0.8554328083992004,\n",
       " 0.8445568084716797,\n",
       " 0.8821628093719482,\n",
       " 0.868812084197998,\n",
       " 0.8272908926010132,\n",
       " 0.893303394317627,\n",
       " 0.8466882109642029,\n",
       " 0.81211918592453,\n",
       " 0.8293699026107788,\n",
       " 0.8326186537742615,\n",
       " 0.7988868951797485,\n",
       " 0.8400462865829468,\n",
       " 0.81133633852005,\n",
       " 0.7929549217224121,\n",
       " 0.8529321551322937,\n",
       " 0.7931314706802368,\n",
       " 0.8519940376281738,\n",
       " 0.775860607624054,\n",
       " 0.8677819967269897,\n",
       " 0.806749701499939,\n",
       " 0.7377148866653442,\n",
       " 0.8354468941688538,\n",
       " 0.819530725479126,\n",
       " 0.8451295495033264,\n",
       " 0.8180721998214722,\n",
       " 0.7962614893913269,\n",
       " 0.8154964447021484,\n",
       " 0.7577403783798218,\n",
       " 0.8602925539016724,\n",
       " 0.7740155458450317,\n",
       " 0.8615809679031372,\n",
       " 0.7551892995834351,\n",
       " 0.8487947583198547,\n",
       " 0.76165372133255,\n",
       " 0.8430540561676025,\n",
       " 0.792680561542511,\n",
       " 0.7837343215942383,\n",
       " 0.8016636967658997,\n",
       " 0.7885563969612122,\n",
       " 0.7754959464073181,\n",
       " 0.795341968536377,\n",
       " 0.7377126812934875,\n",
       " 0.799420952796936,\n",
       " 0.7142031788825989,\n",
       " 0.7482606768608093,\n",
       " 0.7510988116264343,\n",
       " 0.7469883561134338,\n",
       " 0.8432332873344421,\n",
       " 0.7499033808708191,\n",
       " 0.770625114440918,\n",
       " 0.7884882688522339,\n",
       " 0.7288013100624084,\n",
       " 0.8189719319343567,\n",
       " 0.7918610572814941,\n",
       " 0.8126501441001892,\n",
       " 0.7743372321128845,\n",
       " 0.757972776889801,\n",
       " 0.7742940783500671,\n",
       " 0.7582985758781433,\n",
       " 0.7550269365310669,\n",
       " 0.6933517456054688,\n",
       " 0.7432597875595093,\n",
       " 0.7700522541999817,\n",
       " 0.7832440137863159,\n",
       " 0.7506697177886963,\n",
       " 0.7889396548271179,\n",
       " 0.7996771931648254,\n",
       " 0.7330745458602905,\n",
       " 0.7696466445922852,\n",
       " 0.7018406987190247,\n",
       " 0.7349565029144287,\n",
       " 0.7323322892189026,\n",
       " 0.8021353483200073,\n",
       " 0.7554013729095459,\n",
       " 0.7978184819221497,\n",
       " 0.7041885852813721,\n",
       " 0.769303023815155,\n",
       " 0.7781912684440613,\n",
       " 0.7322693467140198,\n",
       " 0.7621269822120667,\n",
       " 0.7429628372192383,\n",
       " 0.7814587950706482,\n",
       " 0.7189125418663025,\n",
       " 0.7442728877067566,\n",
       " 0.7228250503540039,\n",
       " 0.7341164350509644,\n",
       " 0.7215747833251953,\n",
       " 0.7729659676551819,\n",
       " 0.7167273759841919,\n",
       " 0.7643508315086365,\n",
       " 0.7183535695075989,\n",
       " 0.8032382726669312,\n",
       " 0.7151543498039246,\n",
       " 0.7799487709999084,\n",
       " 0.7362537980079651,\n",
       " 0.7362627983093262,\n",
       " 0.7415733933448792,\n",
       " 0.7135425806045532,\n",
       " 0.711266040802002,\n",
       " 0.7063411474227905,\n",
       " 0.6806862950325012,\n",
       " 0.6959090828895569,\n",
       " 0.7282878756523132,\n",
       " 0.670432448387146,\n",
       " 0.6907572150230408,\n",
       " 0.7284849286079407,\n",
       " 0.7286920547485352,\n",
       " 0.7090333700180054,\n",
       " 0.7490270733833313,\n",
       " 0.6860198378562927,\n",
       " 0.6356847882270813,\n",
       " 0.7046281695365906,\n",
       " 0.6744458079338074,\n",
       " 0.7128708958625793,\n",
       " 0.7083628177642822,\n",
       " 0.7180202007293701,\n",
       " 0.7157903909683228,\n",
       " 0.7117905020713806,\n",
       " 0.6629851460456848,\n",
       " 0.7361152768135071,\n",
       " 0.6758555173873901,\n",
       " 0.6863776445388794,\n",
       " 0.6923597455024719,\n",
       " 0.7234829664230347,\n",
       " 0.7040780186653137,\n",
       " 0.6564498543739319,\n",
       " 0.6690071225166321,\n",
       " 0.6835870146751404,\n",
       " 0.6947071552276611,\n",
       " 0.6515666842460632,\n",
       " 0.7368813753128052,\n",
       " 0.7092794179916382,\n",
       " 0.7001528739929199,\n",
       " 0.6458483934402466,\n",
       " 0.7205756306648254,\n",
       " 0.6890004277229309,\n",
       " 0.7156473398208618,\n",
       " 0.6782987713813782,\n",
       " 0.6699745059013367,\n",
       " 0.7038260102272034,\n",
       " 0.6953784227371216,\n",
       " 0.67299884557724,\n",
       " 0.6682095527648926,\n",
       " 0.7041069865226746,\n",
       " 0.6964483261108398,\n",
       " 0.6651009917259216,\n",
       " 0.6982951164245605,\n",
       " 0.7030371427536011,\n",
       " 0.6769933700561523,\n",
       " 0.6869297623634338,\n",
       " 0.7052937746047974,\n",
       " 0.6370524764060974,\n",
       " 0.7014418244361877,\n",
       " 0.6402379870414734,\n",
       " 0.6831617951393127,\n",
       " 0.6565447449684143,\n",
       " 0.6351253986358643,\n",
       " 0.6446157097816467,\n",
       " 0.6657782793045044,\n",
       " 0.6495029926300049,\n",
       " 0.6618887186050415,\n",
       " 0.6769312620162964,\n",
       " 0.6729986071586609,\n",
       " 0.6717001795768738,\n",
       " 0.7181925773620605,\n",
       " 0.6232814192771912,\n",
       " 0.6136044263839722,\n",
       " 0.6843950748443604,\n",
       " 0.680597186088562,\n",
       " 0.6078715920448303,\n",
       " 0.6655173897743225,\n",
       " 0.6446400284767151,\n",
       " 0.6632558703422546,\n",
       " 0.6437731385231018,\n",
       " 0.6281777024269104,\n",
       " 0.647813081741333,\n",
       " 0.5822771191596985,\n",
       " 0.6612345576286316,\n",
       " 0.5928568840026855,\n",
       " 0.6967335343360901,\n",
       " 0.6442014575004578,\n",
       " 0.6609508991241455,\n",
       " 0.6405521631240845,\n",
       " 0.6328811645507812,\n",
       " 0.6150180697441101,\n",
       " 0.6401935815811157,\n",
       " 0.6324033737182617,\n",
       " 0.6758857369422913,\n",
       " 0.6450051069259644,\n",
       " 0.652859628200531,\n",
       " 0.6550204753875732,\n",
       " 0.6218891739845276,\n",
       " 0.6528499126434326,\n",
       " 0.6411811113357544,\n",
       " 0.6246787905693054,\n",
       " 0.6814812421798706,\n",
       " 0.6234112977981567,\n",
       " 0.6614862084388733,\n",
       " 0.6786184310913086,\n",
       " 0.6143047213554382,\n",
       " 0.6943644881248474,\n",
       " 0.6292580962181091,\n",
       " 0.6923235058784485,\n",
       " 0.6105902791023254,\n",
       " 0.6038817763328552,\n",
       " 0.645940363407135,\n",
       " 0.6424902081489563,\n",
       " 0.6772229075431824,\n",
       " 0.6667047142982483,\n",
       " 0.5885619521141052,\n",
       " 0.6215686798095703,\n",
       " 0.6732639074325562,\n",
       " 0.5927903056144714,\n",
       " 0.6161999106407166,\n",
       " 0.5861203074455261,\n",
       " 0.6941422820091248,\n",
       " 0.5944077372550964,\n",
       " 0.6283459067344666,\n",
       " 0.6028763055801392,\n",
       " 0.6020196676254272,\n",
       " 0.6255900263786316,\n",
       " 0.6304826140403748,\n",
       " 0.6128936409950256,\n",
       " 0.6149092316627502,\n",
       " 0.6211593747138977,\n",
       " 0.6129871010780334,\n",
       " 0.6077984571456909,\n",
       " 0.6441047787666321,\n",
       " 0.5628764629364014,\n",
       " 0.6289635300636292,\n",
       " 0.6025477647781372,\n",
       " 0.6031839847564697,\n",
       " 0.630313515663147,\n",
       " 0.6118754744529724,\n",
       " 0.5766820907592773,\n",
       " 0.6096194982528687,\n",
       " 0.6061902046203613,\n",
       " 0.6000419855117798,\n",
       " 0.5585197806358337,\n",
       " 0.600358784198761,\n",
       " 0.6282742023468018,\n",
       " 0.6294687390327454,\n",
       " 0.5848345756530762]"
      ]
     },
     "execution_count": 20,
     "metadata": {},
     "output_type": "execute_result"
    }
   ],
   "source": [
    "all_mae_histories[0]"
   ]
  },
  {
   "cell_type": "code",
   "execution_count": 21,
   "metadata": {},
   "outputs": [
    {
     "data": {
      "image/png": "[encoded data removed]",
      "text/plain": [
       "<Figure size 640x480 with 1 Axes>"
      ]
     },
     "metadata": {},
     "output_type": "display_data"
    }
   ],
   "source": [
    "# Plot MAE History\n",
    "import matplotlib.pyplot as plt\n",
    "plt.plot(range(1, len(all_mae_histories[0]) + 1), all_mae_histories[0])\n",
    "plt.plot(range(1, len(all_mae_histories[0]) + 1), all_mae_histories[1])\n",
    "plt.xlabel('Epochs')\n",
    "plt.ylabel('Validation MAE')\n",
    "plt.show()"
   ]
  },
  {
   "cell_type": "code",
   "execution_count": 16,
   "metadata": {},
   "outputs": [],
   "source": [
    "# Each iteration generated a history object w\n",
    "average_mae_history = [np.mean([x[i] for x in all_mae_histories]) for i in range(num_epochs)]"
   ]
  },
  {
   "cell_type": "code",
   "execution_count": 22,
   "metadata": {},
   "outputs": [
    {
     "data": {
      "image/png": "[encoded data removed]",
      "text/plain": [
       "<Figure size 640x480 with 1 Axes>"
      ]
     },
     "metadata": {},
     "output_type": "display_data"
    }
   ],
   "source": [
    "# Plot average MAE History\n",
    "import matplotlib.pyplot as plt\n",
    "plt.plot(range(1, len(average_mae_history) + 1), average_mae_history)\n",
    "plt.xlabel('Epochs')\n",
    "plt.ylabel('Validation MAE')\n",
    "plt.show()"
   ]
  },
  {
   "cell_type": "code",
   "execution_count": 23,
   "metadata": {},
   "outputs": [
    {
     "name": "stderr",
     "output_type": "stream",
     "text": [
      "/Users/janik/miniconda3/envs/AAA/lib/python3.9/site-packages/keras/optimizers/optimizer_v2/rmsprop.py:135: UserWarning: The `lr` argument is deprecated, use `learning_rate` instead.\n",
      "  super(RMSprop, self).__init__(name, **kwargs)\n",
      "2023-05-15 16:16:50.785738: I tensorflow/core/grappler/optimizers/custom_graph_optimizer_registry.cc:113] Plugin optimizer for device_type GPU is enabled.\n"
     ]
    },
    {
     "name": "stdout",
     "output_type": "stream",
     "text": [
      "4/4 [==============================] - 0s 11ms/step - loss: 20.4694 - mae: 2.8979\n"
     ]
    },
    {
     "name": "stderr",
     "output_type": "stream",
     "text": [
      "2023-05-15 16:17:02.257924: I tensorflow/core/grappler/optimizers/custom_graph_optimizer_registry.cc:113] Plugin optimizer for device_type GPU is enabled.\n"
     ]
    }
   ],
   "source": [
    "# Evaluating the Model with the Test Set\n",
    "model = build_model()\n",
    "model.fit(train_data, train_targets, epochs=80, batch_size=16, verbose=0)\n",
    "test_mse_score, test_mae_score = model.evaluate(test_data, test_targets)"
   ]
  },
  {
   "cell_type": "code",
   "execution_count": 24,
   "metadata": {},
   "outputs": [
    {
     "data": {
      "text/plain": [
       "2.8978824615478516"
      ]
     },
     "execution_count": 24,
     "metadata": {},
     "output_type": "execute_result"
    }
   ],
   "source": [
    "# Voila.\n",
    "test_mae_score"
   ]
  },
  {
   "attachments": {},
   "cell_type": "markdown",
   "metadata": {},
   "source": [
    "#### Take-Home Message\n",
    "1. Mean squared error (MSE) is a loss function commonly used for regression.\n",
    "2. A common regression metric is mean absolute error.\n",
    "3. When features in the input data have values in different ranges, each feature should be scaled independently as a preprocessing step.\n",
    "4. When there is little data available, using K-fold validation is a great way to reliably evaluate a model.\n",
    "5. If there is little data, use small network. Otherwise your network might overfit."
   ]
  }
 ],
 "metadata": {
  "kernelspec": {
   "display_name": "Python 3 (ipykernel)",
   "language": "python",
   "name": "python3"
  },
  "language_info": {
   "codemirror_mode": {
    "name": "ipython",
    "version": 3
   },
   "file_extension": ".py",
   "mimetype": "text/x-python",
   "name": "python",
   "nbconvert_exporter": "python",
   "pygments_lexer": "ipython3",
   "version": "3.9.13"
  }
 },
 "nbformat": 4,
 "nbformat_minor": 2
}
